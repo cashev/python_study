{
  "nbformat": 4,
  "nbformat_minor": 0,
  "metadata": {
    "colab": {
      "name": "collatz.ipynb",
      "provenance": []
    },
    "kernelspec": {
      "name": "python3",
      "display_name": "Python 3"
    }
  },
  "cells": [
    {
      "cell_type": "code",
      "metadata": {
        "id": "KJ6oCF5Wu0jp"
      },
      "source": [
        "from graphviz import Digraph"
      ],
      "execution_count": 2,
      "outputs": []
    },
    {
      "cell_type": "code",
      "metadata": {
        "id": "keCBiE24vZ0I"
      },
      "source": [
        "def collatz_graph(i, edges):\n",
        "    while i != 1:\n",
        "        j = i\n",
        "        if i % 2 == 0:\n",
        "            i = i // 2\n",
        "        else:\n",
        "            i = i * 3 + 1\n",
        "        edges.add((j, i))"
      ],
      "execution_count": 7,
      "outputs": []
    },
    {
      "cell_type": "code",
      "metadata": {
        "id": "2gl7RWVsvVNT"
      },
      "source": [
        "def make_graph(n):\n",
        "    g = Digraph()\n",
        "    edges = set()\n",
        "    for i in range(1, n+1):\n",
        "        collatz_graph(i, edges)\n",
        "    for i, j in edges:\n",
        "        g.edge(str(i), str(j))\n",
        "    g.attr(size=\"50,50\")\n",
        "    return g"
      ],
      "execution_count": 13,
      "outputs": []
    },
    {
      "cell_type": "code",
      "metadata": {
        "id": "xVEmKtSYv2fM"
      },
      "source": [
        "make_graph(27)"
      ],
      "execution_count": null,
      "outputs": []
    }
  ]
}